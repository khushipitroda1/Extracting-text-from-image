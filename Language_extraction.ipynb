{
  "nbformat": 4,
  "nbformat_minor": 0,
  "metadata": {
    "colab": {
      "name": "Language extraction",
      "provenance": []
    },
    "kernelspec": {
      "name": "python3",
      "display_name": "Python 3"
    },
    "language_info": {
      "name": "python"
    }
  },
  "cells": [
    {
      "cell_type": "code",
      "execution_count": null,
      "metadata": {
        "colab": {
          "base_uri": "https://localhost:8080/"
        },
        "id": "mPOPC8_NycBo",
        "outputId": "29110bcd-a3ec-4fd7-d288-8c689a2e9181"
      },
      "outputs": [
        {
          "output_type": "stream",
          "name": "stdout",
          "text": [
            "Looking in indexes: https://pypi.org/simple, https://us-python.pkg.dev/colab-wheels/public/simple/\n",
            "Collecting opencv-python-headless==4.1.2.30\n",
            "  Downloading opencv_python_headless-4.1.2.30-cp37-cp37m-manylinux1_x86_64.whl (21.8 MB)\n",
            "\u001b[K     |████████████████████████████████| 21.8 MB 1.3 MB/s \n",
            "\u001b[?25hRequirement already satisfied: numpy>=1.14.5 in /usr/local/lib/python3.7/dist-packages (from opencv-python-headless==4.1.2.30) (1.21.6)\n",
            "Installing collected packages: opencv-python-headless\n",
            "Successfully installed opencv-python-headless-4.1.2.30\n",
            "/bin/bash: conda: command not found\n",
            "Looking in indexes: https://pypi.org/simple, https://us-python.pkg.dev/colab-wheels/public/simple/\n",
            "Collecting easyocr\n",
            "  Downloading easyocr-1.5.0-py3-none-any.whl (70.8 MB)\n",
            "\u001b[K     |████████████████████████████████| 70.8 MB 13 kB/s \n",
            "\u001b[?25hRequirement already satisfied: torchvision>=0.5 in /usr/local/lib/python3.7/dist-packages (from easyocr) (0.12.0+cu113)\n",
            "Requirement already satisfied: numpy in /usr/local/lib/python3.7/dist-packages (from easyocr) (1.21.6)\n",
            "Requirement already satisfied: opencv-python-headless<=4.5.4.60 in /usr/local/lib/python3.7/dist-packages (from easyocr) (4.1.2.30)\n",
            "Requirement already satisfied: PyYAML in /usr/local/lib/python3.7/dist-packages (from easyocr) (3.13)\n",
            "Requirement already satisfied: scipy in /usr/local/lib/python3.7/dist-packages (from easyocr) (1.4.1)\n",
            "Requirement already satisfied: scikit-image in /usr/local/lib/python3.7/dist-packages (from easyocr) (0.18.3)\n",
            "Collecting python-bidi\n",
            "  Downloading python_bidi-0.4.2-py2.py3-none-any.whl (30 kB)\n",
            "Requirement already satisfied: torch in /usr/local/lib/python3.7/dist-packages (from easyocr) (1.11.0+cu113)\n",
            "Requirement already satisfied: Pillow in /usr/local/lib/python3.7/dist-packages (from easyocr) (7.1.2)\n",
            "Requirement already satisfied: typing-extensions in /usr/local/lib/python3.7/dist-packages (from torchvision>=0.5->easyocr) (4.1.1)\n",
            "Requirement already satisfied: requests in /usr/local/lib/python3.7/dist-packages (from torchvision>=0.5->easyocr) (2.23.0)\n",
            "Requirement already satisfied: six in /usr/local/lib/python3.7/dist-packages (from python-bidi->easyocr) (1.15.0)\n",
            "Requirement already satisfied: chardet<4,>=3.0.2 in /usr/local/lib/python3.7/dist-packages (from requests->torchvision>=0.5->easyocr) (3.0.4)\n",
            "Requirement already satisfied: idna<3,>=2.5 in /usr/local/lib/python3.7/dist-packages (from requests->torchvision>=0.5->easyocr) (2.10)\n",
            "Requirement already satisfied: certifi>=2017.4.17 in /usr/local/lib/python3.7/dist-packages (from requests->torchvision>=0.5->easyocr) (2022.6.15)\n",
            "Requirement already satisfied: urllib3!=1.25.0,!=1.25.1,<1.26,>=1.21.1 in /usr/local/lib/python3.7/dist-packages (from requests->torchvision>=0.5->easyocr) (1.24.3)\n",
            "Requirement already satisfied: networkx>=2.0 in /usr/local/lib/python3.7/dist-packages (from scikit-image->easyocr) (2.6.3)\n",
            "Requirement already satisfied: tifffile>=2019.7.26 in /usr/local/lib/python3.7/dist-packages (from scikit-image->easyocr) (2021.11.2)\n",
            "Requirement already satisfied: imageio>=2.3.0 in /usr/local/lib/python3.7/dist-packages (from scikit-image->easyocr) (2.4.1)\n",
            "Requirement already satisfied: matplotlib!=3.0.0,>=2.0.0 in /usr/local/lib/python3.7/dist-packages (from scikit-image->easyocr) (3.2.2)\n",
            "Requirement already satisfied: PyWavelets>=1.1.1 in /usr/local/lib/python3.7/dist-packages (from scikit-image->easyocr) (1.3.0)\n",
            "Requirement already satisfied: cycler>=0.10 in /usr/local/lib/python3.7/dist-packages (from matplotlib!=3.0.0,>=2.0.0->scikit-image->easyocr) (0.11.0)\n",
            "Requirement already satisfied: pyparsing!=2.0.4,!=2.1.2,!=2.1.6,>=2.0.1 in /usr/local/lib/python3.7/dist-packages (from matplotlib!=3.0.0,>=2.0.0->scikit-image->easyocr) (3.0.9)\n",
            "Requirement already satisfied: python-dateutil>=2.1 in /usr/local/lib/python3.7/dist-packages (from matplotlib!=3.0.0,>=2.0.0->scikit-image->easyocr) (2.8.2)\n",
            "Requirement already satisfied: kiwisolver>=1.0.1 in /usr/local/lib/python3.7/dist-packages (from matplotlib!=3.0.0,>=2.0.0->scikit-image->easyocr) (1.4.3)\n",
            "Installing collected packages: python-bidi, easyocr\n",
            "Successfully installed easyocr-1.5.0 python-bidi-0.4.2\n"
          ]
        }
      ],
      "source": [
        "!pip install opencv-python-headless==4.1.2.30\n",
        "!conda install pytorch torchvision torchaudio cpuonly -c pytorch\n",
        "!pip install easyocr"
      ]
    },
    {
      "cell_type": "code",
      "source": [
        "# Import Reader from easyocr \n",
        "from easyocr import Reader\n",
        "# Load model for English and French \n",
        "reader = Reader([\"hi\",\"mr\",\"ne\",\"en\"])\n",
        "# Load model for Chinese"
      ],
      "metadata": {
        "colab": {
          "base_uri": "https://localhost:8080/"
        },
        "id": "lDXsila9yuyQ",
        "outputId": "689645ca-0577-4dbc-d083-20b915e5a44d"
      },
      "execution_count": null,
      "outputs": [
        {
          "output_type": "stream",
          "name": "stderr",
          "text": [
            "CUDA not available - defaulting to CPU. Note: This module is much faster with a GPU.\n",
            "Downloading detection model, please wait. This may take several minutes depending upon your network connection.\n"
          ]
        },
        {
          "output_type": "stream",
          "name": "stdout",
          "text": [
            "Progress: |██████████████████████████████████████████████████| 100.0% Complete"
          ]
        },
        {
          "output_type": "stream",
          "name": "stderr",
          "text": [
            "Downloading recognition model, please wait. This may take several minutes depending upon your network connection.\n"
          ]
        },
        {
          "output_type": "stream",
          "name": "stdout",
          "text": [
            "Progress: |██████████████████████████████████████████████████| 100.0% Complete"
          ]
        }
      ]
    },
    {
      "cell_type": "code",
      "source": [
        "def read_text(image_name, model_name, in_line=True):\n",
        "\n",
        "  # Read the data\n",
        "  text = model_name.readtext(image_name, detail = 0)\n",
        "  \n",
        "  # Join texts writing each text in new line\n",
        "  return '\\n'.join(text)"
      ],
      "metadata": {
        "id": "gBwIkdhTygPB"
      },
      "execution_count": null,
      "outputs": []
    },
    {
      "cell_type": "code",
      "source": [
        "from google.colab import drive\n",
        "drive.mount('/content/drive')\n",
        "import os \n",
        "os.chdir(\"/content/drive/MyDrive/OCR_SIH\") "
      ],
      "metadata": {
        "colab": {
          "base_uri": "https://localhost:8080/"
        },
        "id": "HNqSoX9Fzp5g",
        "outputId": "e77dd20b-9a29-4807-f362-6cebe89eea50"
      },
      "execution_count": null,
      "outputs": [
        {
          "output_type": "stream",
          "name": "stdout",
          "text": [
            "Mounted at /content/drive\n"
          ]
        }
      ]
    },
    {
      "cell_type": "code",
      "source": [
        "fr_text = read_text('/content/drive/MyDrive/OCR_SIH/img1.png', reader)\n",
        "print(fr_text)"
      ],
      "metadata": {
        "colab": {
          "base_uri": "https://localhost:8080/"
        },
        "id": "Z5VudPs0y0yf",
        "outputId": "9d9fb4d2-ceb4-4eed-edd9-2fe389c87ca3"
      },
      "execution_count": null,
      "outputs": [
        {
          "output_type": "stream",
          "name": "stdout",
          "text": [
            "Ensemble contre le Covid 19\n",
            "Se laver regulierement\n",
            "Tousser oU cternuer dans\n",
            "Se mouvcher dans Un\n",
            "mains OU utiliser Une\n",
            "son coude oU dans son\n",
            "mouchoir a Usage uniqve\n",
            "solution hydro alcooliqve\n",
            "mouchoir\n",
            "puis le jeter\n",
            "Porter Un masqve quand la\n",
            "distance dun metre ne pevt\n",
            "Respecter une distance dau\n",
            "Limiter au maximum ses\n",
            "pas etre respectee et\n",
            "moins deux metres avec les\n",
            "contacts sociaux\n",
            "partout oU cela est\n",
            "autres\n",
            "obligatoire\n",
            "Eviter de se toucher le\n",
            "Aerer les pieces १० minutes\n",
            "Salver sans serrer Ia main et\n",
            "visage\n",
            "trois fois par jour\n",
            "arreter les embrassades\n",
            "Utiliser les outils numeriqves\n",
            "(TousAntiCovid)\n"
          ]
        }
      ]
    },
    {
      "cell_type": "code",
      "source": [
        "en_text = read_text('/content/drive/MyDrive/OCR_SIH/img2.png', reader)\n",
        "print(en_text)"
      ],
      "metadata": {
        "colab": {
          "base_uri": "https://localhost:8080/"
        },
        "id": "uXzjyJXa4EGv",
        "outputId": "6ef1333f-2b54-4ed4-d89a-aedcba8447c9"
      },
      "execution_count": null,
      "outputs": [
        {
          "output_type": "stream",
          "name": "stdout",
          "text": [
            "Reduce your risk of coronavirus infection:\n",
            "Clean hands with soap and water\n",
            "alcohol based hand rub\n",
            "Cover nose and mouth when coughing\n",
            "sneezing with tissue or flexed elbow\n",
            "Avoid close contact with anyone with\n",
            "cold or flu like symptoms\n",
            "Thoroughly cook meat and eggs\n",
            "No unprotected contact with live wild\n",
            "or farm animals\n",
            "World Health\n",
            "Organization\n",
            "and\n"
          ]
        }
      ]
    },
    {
      "cell_type": "code",
      "source": [
        "hi_text = read_text('/content/drive/MyDrive/OCR_SIH/img3.png', reader)\n",
        "print(hi_text)"
      ],
      "metadata": {
        "colab": {
          "base_uri": "https://localhost:8080/"
        },
        "id": "NcKH6A9K4Fno",
        "outputId": "b69fe80b-ab4b-4063-9bcd-17d205f504c0"
      },
      "execution_count": null,
      "outputs": [
        {
          "output_type": "stream",
          "name": "stdout",
          "text": [
            "स्टोरी हाइलाइट्स\n",
            "पेट्रोल , डीजल के दाम पूरी दुनिया में बढ़े हुए हैं . लेकिन एक पेट्रोल पंप मालिक ऐसा है, जो अपनी ओर\n",
            "से डिस्काउंट देकर सस्ते में पेट्रोल बेच रहा है॰ क्योंकि उसका इरादा अभी फायदा कमाने का नहीं ,\n",
            "अपनी जेब से पेट्रोल पंप मालिक दे\n",
            "बाल्के\n",
            "लोगों की मदद करने का है.\n",
            "रहे डिस्काउंट\n",
            "इस\n",
            "पेट्रोल पंप के मालिक का नाम जसविंदर सिंह (asvinder Singh) है. भारतीय मूल के\n",
            "भारतीय मूल के सिख कपल चलाते\n",
            "जसविंदर अमेरिका के फीनिक्स शहर में रहते हैं. वो फीनिक्स में बाकी जगहों की तुलना में प्रति गैलन\n",
            "हैं पेट्रोल पंप\n",
            "पेट्रोल करीब आधे डॉलर कम दाम पर बेच रहे हैं॰ वो भी तब जब देश भर में इसकी कीमतें रिकॉर्ड उच्च\n",
            "स्तर पर पहुंच गई हैं.\n",
            "जसविंदर के शहर में एक लीटर पेट्रोल का दाम ९८ रुपये है, जिसे वो ८९ रुपये प्रति लीटर बेच रहे हैं. यानी १० लीटर पेट्रोल पर ९० रुपये\n",
            "का\n",
            "डिस्काउंट.\n",
            "NBC न्यूज के मुताबिक, जसविंदर सिंह वैलेरो फूड मार्ट के भी मालिक हैं. वो बीते शुक्रवार से अपने पेट्रोल पंप पर ५. १९ डॉलर प्रति गैलन\n",
            "बेच रहे हैं , जबकि उनके शहर में पेट्रोल की औसत कीमत करीब ५.६८ डॉलर है.\n",
            "जसविंदर कहते हैं कि उन्होंने मानवता की खातिर और अपने सिख धर्म के\n",
            "का पालन करते हुए पेट्रोल की कीमतें अपने स्तर पर कम\n",
            "की हैं. उनका कहना है कि अगर आपके पास कुछ है, तो उसे\n",
            "के साथ शेयर करना चाहिए.\n",
            "मूल्यों =\n",
            "दूसरों \n"
          ]
        }
      ]
    }
  ]
}